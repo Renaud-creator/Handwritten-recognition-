{
 "cells": [
  {
   "cell_type": "markdown",
   "metadata": {},
   "source": [
    "For this notebook you need to install:\n",
    "\n",
    "- `tensorflow`\n",
    "- `keras`\n",
    "- `keras-vis`\n",
    "\n",
    "The easiest way is to first install the `anaconda` distribution for `python` (preferably `Python 3`) and then use in a terminal\n",
    "\n",
    "    conda install pip\n",
    " \n",
    "`pip` is the python package installation tool. Then, you can simply use\n",
    "\n",
    "    pip install tensorflow\n",
    "    pip install keras\n",
    "    pip install keras-vis\n",
    "\n",
    "which should install everything easily.\n",
    "\n",
    "The `numpy` library does some expensive operations outside Python using efficient code (Fortran, C/C++). However, switching back to python after each operation cause a big overhead because of unnecessary copies of the data. \n",
    "\n",
    "The library `tensorflow` does all the computations outside of Python: the python API is used to define a graph of operations, that will run entirely using C++ binaries. This architecture allows to get rid of the overhead. Besides, knowing the computational graph beforehand allows to parallelize and/or distribute the computation more easily. As a result, `tensoflow` can run the computations on multiple CPUs or GPUs, and on multiple servers.\n",
    "\n",
    "However, for quick an easy model prototying, the library `keras` is simpler to use than `tensorflow`. \n",
    "Deep learning models can be constructed thanks to `keras` in few lines of python. So in this notebook, we won't see direct calls to `tensorflow`, but only to `keras`, even if the computations are done by `tensorflow`."
   ]
  },
  {
   "cell_type": "code",
   "execution_count": 2,
   "metadata": {},
   "outputs": [
    {
     "name": "stderr",
     "output_type": "stream",
     "text": [
      "Using TensorFlow backend.\n"
     ]
    },
    {
     "name": "stdout",
     "output_type": "stream",
     "text": [
      "tensorflow version 2.0.0 (should be at least 0.12.1)\n",
      "keras version 2.3.1 (should be at least 2.0.7)\n"
     ]
    }
   ],
   "source": [
    "import numpy as np\n",
    "import matplotlib.pyplot as plt\n",
    "%matplotlib inline\n",
    "\n",
    "import pickle as pkl\n",
    "import os\n",
    "\n",
    "import tensorflow\n",
    "import keras\n",
    "from keras import backend as K\n",
    "from keras.datasets import mnist\n",
    "from keras.models import Sequential\n",
    "from keras.layers import Dense, Dropout, Flatten\n",
    "from keras.layers import Conv2D, MaxPooling2D\n",
    "from keras import activations\n",
    "\n",
    "from keras.wrappers.scikit_learn import KerasRegressor, KerasClassifier\n",
    "from sklearn.model_selection import GridSearchCV\n",
    "from sklearn.metrics import classification_report\n",
    "\n",
    "print(\"tensorflow version %s (should be at least 0.12.1)\" % tensorflow.__version__)\n",
    "print(\"keras version %s (should be at least 2.0.7)\" % keras.__version__)"
   ]
  },
  {
   "cell_type": "markdown",
   "metadata": {},
   "source": [
    "### <font color=darkred> Handwritten digit recognition with MNIST</font>\n",
    "\n",
    "For the first part of this tutorial, we will use the [MNIST](http://yann.lecun.com/exdb/mnist) dataset.\n",
    "This dataset contains images representing handwritten digits. \n",
    "Each image is 28 x 28 pixels, and each pixel is represented by a number (gray level). \n",
    "These arrays can be flattened into vectors of 28 x 28 = 784 numbers.\n",
    "You can then see each image as a point in a 784-dimensional vector space. \n",
    "You can find interesting visualisations of this vector space [http://colah.github.io/posts/2014-10-Visualizing-MNIST/](http://colah.github.io/posts/2014-10-Visualizing-MNIST/).\n",
    "\n",
    "The labels in $\\{0, 1, 2, \\ldots, 9\\}$ giving the digit on the image are be represented using one-hot encoding: labels in $\\{0, 1, 2, \\ldots, 9\\}$ are replaced by labels in $\\{ 0, 1\\}^{10}$, namely $0$ is replaced by $(1, 0, \\ldots 0)$, $1$ is replaced by $(0, 1, 0, \\ldots 0)$, $2$ is replaced by $(0, 0, 1, 0, \\ldots, 0)$, etc.\n",
    "\n",
    "Also, MNIST data is grayscale pixels in $\\{0, \\ldots, 255\\}$. The pixels should be normalized to belong to $[0, 1]$.\n",
    "Indeed, working with big floats can lead to important numerical errors, in particular in deep learning models."
   ]
  },
  {
   "cell_type": "markdown",
   "metadata": {},
   "source": [
    "MNIST is a very old and standard benchmark dataset for image classification, so it's built-in (ready to be downloaded) in all machine learning libraries (including `keras` and `tensorflow`)."
   ]
  },
  {
   "cell_type": "code",
   "execution_count": 9,
   "metadata": {
    "scrolled": true
   },
   "outputs": [
    {
     "name": "stdout",
     "output_type": "stream",
     "text": [
      "[[[0 0 0 ... 0 0 0]\n",
      "  [0 0 0 ... 0 0 0]\n",
      "  [0 0 0 ... 0 0 0]\n",
      "  ...\n",
      "  [0 0 0 ... 0 0 0]\n",
      "  [0 0 0 ... 0 0 0]\n",
      "  [0 0 0 ... 0 0 0]]\n",
      "\n",
      " [[0 0 0 ... 0 0 0]\n",
      "  [0 0 0 ... 0 0 0]\n",
      "  [0 0 0 ... 0 0 0]\n",
      "  ...\n",
      "  [0 0 0 ... 0 0 0]\n",
      "  [0 0 0 ... 0 0 0]\n",
      "  [0 0 0 ... 0 0 0]]\n",
      "\n",
      " [[0 0 0 ... 0 0 0]\n",
      "  [0 0 0 ... 0 0 0]\n",
      "  [0 0 0 ... 0 0 0]\n",
      "  ...\n",
      "  [0 0 0 ... 0 0 0]\n",
      "  [0 0 0 ... 0 0 0]\n",
      "  [0 0 0 ... 0 0 0]]\n",
      "\n",
      " ...\n",
      "\n",
      " [[0 0 0 ... 0 0 0]\n",
      "  [0 0 0 ... 0 0 0]\n",
      "  [0 0 0 ... 0 0 0]\n",
      "  ...\n",
      "  [0 0 0 ... 0 0 0]\n",
      "  [0 0 0 ... 0 0 0]\n",
      "  [0 0 0 ... 0 0 0]]\n",
      "\n",
      " [[0 0 0 ... 0 0 0]\n",
      "  [0 0 0 ... 0 0 0]\n",
      "  [0 0 0 ... 0 0 0]\n",
      "  ...\n",
      "  [0 0 0 ... 0 0 0]\n",
      "  [0 0 0 ... 0 0 0]\n",
      "  [0 0 0 ... 0 0 0]]\n",
      "\n",
      " [[0 0 0 ... 0 0 0]\n",
      "  [0 0 0 ... 0 0 0]\n",
      "  [0 0 0 ... 0 0 0]\n",
      "  ...\n",
      "  [0 0 0 ... 0 0 0]\n",
      "  [0 0 0 ... 0 0 0]\n",
      "  [0 0 0 ... 0 0 0]]]\n",
      "x_train shape: (60000, 28, 28, 1)\n",
      "x_test shape: (10000, 28, 28, 1)\n",
      "y_train shape: (60000,)\n",
      "y_test shape: (10000,)\n",
      "60000 train samples\n",
      "10000 test samples\n"
     ]
    }
   ],
   "source": [
    "# Number of classes\n",
    "num_classes = 10\n",
    "# input image dimensions\n",
    "img_rows, img_cols = 28, 28\n",
    "\n",
    "# the data, shuffled and split between train and test sets\n",
    "(x_train, y_train), (x_test, y_test) = mnist.load_data()\n",
    "print(x_train)\n",
    "if K.image_data_format() == 'channels_first':\n",
    "    x_train = x_train.reshape(x_train.shape[0], 1, img_rows, img_cols)\n",
    "    x_test = x_test.reshape(x_test.shape[0], 1, img_rows, img_cols)\n",
    "    input_shape = (1, img_rows, img_cols)\n",
    "else:\n",
    "    x_train = x_train.reshape(x_train.shape[0], img_rows, img_cols, 1)\n",
    "    x_test = x_test.reshape(x_test.shape[0], img_rows, img_cols, 1)\n",
    "    input_shape = (img_rows, img_cols, 1)\n",
    "\n",
    "x_train = x_train.astype('float32')\n",
    "x_test = x_test.astype('float32')\n",
    "\n",
    "print('x_train shape:', x_train.shape)\n",
    "print('x_test shape:', x_test.shape)\n",
    "print('y_train shape:', y_train.shape)\n",
    "print('y_test shape:', y_test.shape)\n",
    "\n",
    "print(x_train.shape[0], 'train samples')\n",
    "print(x_test.shape[0], 'test samples')\n"
   ]
  },
  {
   "cell_type": "markdown",
   "metadata": {},
   "source": [
    "In the next cell we illustrate the first for elements of the training data: \n",
    "pixels grayscale of the digit and their corresponding label."
   ]
  },
  {
   "cell_type": "code",
   "execution_count": 4,
   "metadata": {
    "scrolled": true
   },
   "outputs": [
    {
     "data": {
      "image/png": "[encoded data removed]",
      "text/plain": [
       "<Figure size 576x144 with 4 Axes>"
      ]
     },
     "metadata": {
      "needs_background": "light"
     },
     "output_type": "display_data"
    }
   ],
   "source": [
    "plt.figure(figsize=(8, 2))\n",
    "for i in range(4):\n",
    "    plt.subplot(1, 4, i+1)\n",
    "    plt.imshow(x_train[i].reshape(28, 28), \n",
    "               interpolation=\"none\", cmap=\"gray_r\")\n",
    "    plt.title('Label=%d' % y_train[i], fontsize=14)\n",
    "    plt.axis(\"off\")\n",
    "plt.tight_layout()"
   ]
  },
  {
   "cell_type": "code",
   "execution_count": 57,
   "metadata": {
    "scrolled": true
   },
   "outputs": [
    {
     "data": {
      "image/png": "[encoded data removed]",
      "text/plain": [
       "<Figure size 576x288 with 32 Axes>"
      ]
     },
     "metadata": {
      "needs_background": "light"
     },
     "output_type": "display_data"
    }
   ],
   "source": [
    "n_rows = 4\n",
    "n_cols = 8\n",
    "plt.figure(figsize=(8, 4))\n",
    "for i in range(n_rows * n_cols):\n",
    "    plt.subplot(n_rows, n_cols, i+1)\n",
    "    plt.imshow(x_train[i].reshape(28, 28),\n",
    "               interpolation=\"none\", cmap=\"gray_r\")\n",
    "    plt.axis(\"off\")\n",
    "plt.tight_layout()"
   ]
  },
  {
   "cell_type": "markdown",
   "metadata": {},
   "source": [
    "The first character is a 5 digit, encoded in grayscale matrix."
   ]
  },
  {
   "cell_type": "markdown",
   "metadata": {},
   "source": [
    "We need to normalize the images and one-hot encode the labels."
   ]
  },
  {
   "cell_type": "code",
   "execution_count": 8,
   "metadata": {},
   "outputs": [],
   "source": [
    "x_train /= 255\n",
    "x_test /= 255"
   ]
  },
  {
   "cell_type": "code",
   "execution_count": 4,
   "metadata": {},
   "outputs": [
    {
     "data": {
      "text/plain": [
       "array([[0., 0., 0., 0., 0., 1., 0., 0., 0., 0.],\n",
       "       [1., 0., 0., 0., 0., 0., 0., 0., 0., 0.],\n",
       "       [0., 0., 0., 0., 1., 0., 0., 0., 0., 0.],\n",
       "       [0., 1., 0., 0., 0., 0., 0., 0., 0., 0.],\n",
       "       [0., 0., 0., 0., 0., 0., 0., 0., 0., 1.],\n",
       "       [0., 0., 1., 0., 0., 0., 0., 0., 0., 0.],\n",
       "       [0., 1., 0., 0., 0., 0., 0., 0., 0., 0.],\n",
       "       [0., 0., 0., 1., 0., 0., 0., 0., 0., 0.],\n",
       "       [0., 1., 0., 0., 0., 0., 0., 0., 0., 0.],\n",
       "       [0., 0., 0., 0., 1., 0., 0., 0., 0., 0.]], dtype=float32)"
      ]
     },
     "execution_count": 4,
     "metadata": {},
     "output_type": "execute_result"
    }
   ],
   "source": [
    "# convert class vectors to binary class matrices\n",
    "y_train = keras.utils.to_categorical(y_train, num_classes)\n",
    "y_test = keras.utils.to_categorical(y_test, num_classes)\n",
    "y_train[:10]"
   ]
  },
  {
   "cell_type": "markdown",
   "metadata": {},
   "source": [
    "### <font color=darkred> Softmax regression for MNIST</font>\n",
    "\n",
    "Logistic regression can be extended to classify data in more than two groups. Softmax regression provides a model for the probability that an input $x$ is associated with each group.  It is assumed that the probability to belong to the class $k\\in\\{1,\\ldots,M\\}$ can be expressed by \n",
    "\\begin{equation*}\n",
    "\\mathbb{P}(Y = k| X) = \\frac{\\exp(\\langle w_k,X \\rangle + b_k)}{\\sum_{\\ell=1}^{M}\\exp(\\langle w_\\ell,X \\rangle + b_\\ell)} = p_k(X)\\,,\n",
    "\\end{equation*}\n",
    "where $w_\\ell \\in \\mathbb{R}^d$ and $b_\\ell$  are model `weights` and `intercepts` for each class.\n",
    "\n",
    "\n",
    "To estimate these unknown parameters, a maximum likelihood approach is used as in the logistic regression setting. In this case, the loss function is given by the negative log-likelihood (see also the section on gradient based method)."
   ]
  },
  {
   "cell_type": "markdown",
   "metadata": {},
   "source": [
    "To train the model weights $W_{k, j}$ and $b_k$ for $k=1, \\ldots, 10$ and $j=1, \\ldots, 784$, we consider the loss function given by the negative log-likelihood.\n",
    "For the considered model, the negative log-likelihood of a sample with input $x_i \\in \\mathbb R^{784}$ and label $y_i \\in \\{0, 1\\}^{10}$, it is given by the cross-entropy between the scores $p_k(x_i)$ and the label $y_i$:\n",
    "$$\n",
    "- \\sum_{k=1}^{10} y_{i, k} \\log(p_k(x_i))\n",
    "$$\n",
    "For this first model, we will simply use stochastic gradient descent over small batches of data. It can be done easily with TensorFlow, as it will automatically and efficiently compute the gradient from your graph, then apply an optimization algorithm of your choice to perform the parameters update."
   ]
  },
  {
   "cell_type": "code",
   "execution_count": 60,
   "metadata": {
    "scrolled": true
   },
   "outputs": [],
   "source": [
    "def modelling():\n",
    "    model = Sequential()\n",
    "    # First we need to flatten the data: replace 28 * 28 matrices by flat vectors\n",
    "    # This is always necessary before feeding data to a fully-connected layer (Dense object)\n",
    "    model.add(Flatten(input_shape=input_shape, name='flatten'))\n",
    "\n",
    "    model.add(Dense(num_classes, activation='softmax', name='dense_softmax'))\n",
    "\n",
    "    model.compile(\n",
    "    # specify the loss as the cross-entropy\n",
    "    loss=keras.losses.categorical_crossentropy,\n",
    "    # choose the Adagrad solver, but you can choose others\n",
    "    optimizer=keras.optimizers.Adagrad(),\n",
    "    # to monitor the accuracy on a testing set along optimization\n",
    "    metrics=['accuracy']\n",
    "    )\n",
    "    #model.summary() \n",
    "    return model"
   ]
  },
  {
   "cell_type": "code",
   "execution_count": 61,
   "metadata": {
    "scrolled": false
   },
   "outputs": [
    {
     "name": "stdout",
     "output_type": "stream",
     "text": [
      "Train on 60000 samples, validate on 10000 samples\n",
      "Epoch 1/50\n",
      "60000/60000 [==============================] - 1s 17us/step - loss: 0.4936 - accuracy: 0.8747 - val_loss: 0.3649 - val_accuracy: 0.9036\n",
      "Epoch 2/50\n",
      "60000/60000 [==============================] - 1s 16us/step - loss: 0.3627 - accuracy: 0.9012 - val_loss: 0.3330 - val_accuracy: 0.9099\n",
      "Epoch 3/50\n",
      "60000/60000 [==============================] - 1s 17us/step - loss: 0.3382 - accuracy: 0.9074 - val_loss: 0.3180 - val_accuracy: 0.9138\n",
      "Epoch 4/50\n",
      "60000/60000 [==============================] - 1s 16us/step - loss: 0.3250 - accuracy: 0.9110 - val_loss: 0.3089 - val_accuracy: 0.9144\n",
      "Epoch 5/50\n",
      "60000/60000 [==============================] - 1s 15us/step - loss: 0.3164 - accuracy: 0.9130 - val_loss: 0.3034 - val_accuracy: 0.9156\n",
      "Epoch 6/50\n",
      "60000/60000 [==============================] - 1s 15us/step - loss: 0.3101 - accuracy: 0.9143 - val_loss: 0.2990 - val_accuracy: 0.9163\n",
      "Epoch 7/50\n",
      "60000/60000 [==============================] - 1s 15us/step - loss: 0.3054 - accuracy: 0.9154 - val_loss: 0.2956 - val_accuracy: 0.9167\n",
      "Epoch 8/50\n",
      "60000/60000 [==============================] - 1s 16us/step - loss: 0.3015 - accuracy: 0.9165 - val_loss: 0.2931 - val_accuracy: 0.9173\n",
      "Epoch 9/50\n",
      "60000/60000 [==============================] - 1s 16us/step - loss: 0.2982 - accuracy: 0.9168 - val_loss: 0.2909 - val_accuracy: 0.9183\n",
      "Epoch 10/50\n",
      "60000/60000 [==============================] - 1s 16us/step - loss: 0.2955 - accuracy: 0.9188 - val_loss: 0.2879 - val_accuracy: 0.9189\n",
      "Epoch 11/50\n",
      "60000/60000 [==============================] - 1s 16us/step - loss: 0.2931 - accuracy: 0.9184 - val_loss: 0.2871 - val_accuracy: 0.9185\n",
      "Epoch 12/50\n",
      "60000/60000 [==============================] - 1s 16us/step - loss: 0.2910 - accuracy: 0.9190 - val_loss: 0.2853 - val_accuracy: 0.9197\n",
      "Epoch 13/50\n",
      "60000/60000 [==============================] - 1s 16us/step - loss: 0.2892 - accuracy: 0.9194 - val_loss: 0.2843 - val_accuracy: 0.9198\n",
      "Epoch 14/50\n",
      "60000/60000 [==============================] - 1s 16us/step - loss: 0.2875 - accuracy: 0.9202 - val_loss: 0.2829 - val_accuracy: 0.9216\n",
      "Epoch 15/50\n",
      "60000/60000 [==============================] - 1s 16us/step - loss: 0.2860 - accuracy: 0.9204 - val_loss: 0.2816 - val_accuracy: 0.9209\n",
      "Epoch 16/50\n",
      "60000/60000 [==============================] - 1s 16us/step - loss: 0.2847 - accuracy: 0.9208 - val_loss: 0.2806 - val_accuracy: 0.9215\n",
      "Epoch 17/50\n",
      "60000/60000 [==============================] - 1s 17us/step - loss: 0.2834 - accuracy: 0.9211 - val_loss: 0.2800 - val_accuracy: 0.9222\n",
      "Epoch 18/50\n",
      "60000/60000 [==============================] - 1s 17us/step - loss: 0.2822 - accuracy: 0.9214 - val_loss: 0.2796 - val_accuracy: 0.9223\n",
      "Epoch 19/50\n",
      "60000/60000 [==============================] - 1s 16us/step - loss: 0.2811 - accuracy: 0.9218 - val_loss: 0.2785 - val_accuracy: 0.9228\n",
      "Epoch 20/50\n",
      "60000/60000 [==============================] - 1s 17us/step - loss: 0.2802 - accuracy: 0.9220 - val_loss: 0.2778 - val_accuracy: 0.9220\n",
      "Epoch 21/50\n",
      "60000/60000 [==============================] - 1s 17us/step - loss: 0.2792 - accuracy: 0.9222 - val_loss: 0.2775 - val_accuracy: 0.9224\n",
      "Epoch 22/50\n",
      "60000/60000 [==============================] - 1s 16us/step - loss: 0.2783 - accuracy: 0.9225 - val_loss: 0.2766 - val_accuracy: 0.9240\n",
      "Epoch 23/50\n",
      "60000/60000 [==============================] - 1s 16us/step - loss: 0.2775 - accuracy: 0.9227 - val_loss: 0.2759 - val_accuracy: 0.9225\n",
      "Epoch 24/50\n",
      "60000/60000 [==============================] - 1s 16us/step - loss: 0.2767 - accuracy: 0.9232 - val_loss: 0.2757 - val_accuracy: 0.9226\n",
      "Epoch 25/50\n",
      "60000/60000 [==============================] - 1s 16us/step - loss: 0.2760 - accuracy: 0.9231 - val_loss: 0.2750 - val_accuracy: 0.9234\n",
      "Epoch 26/50\n",
      "60000/60000 [==============================] - 1s 16us/step - loss: 0.2753 - accuracy: 0.9236 - val_loss: 0.2749 - val_accuracy: 0.9238\n",
      "Epoch 27/50\n",
      "60000/60000 [==============================] - 1s 16us/step - loss: 0.2747 - accuracy: 0.9234 - val_loss: 0.2744 - val_accuracy: 0.9234\n",
      "Epoch 28/50\n",
      "60000/60000 [==============================] - 1s 16us/step - loss: 0.2740 - accuracy: 0.9235 - val_loss: 0.2739 - val_accuracy: 0.9229\n",
      "Epoch 29/50\n",
      "60000/60000 [==============================] - 1s 16us/step - loss: 0.2734 - accuracy: 0.9239 - val_loss: 0.2739 - val_accuracy: 0.9236\n",
      "Epoch 30/50\n",
      "60000/60000 [==============================] - 1s 16us/step - loss: 0.2728 - accuracy: 0.9239 - val_loss: 0.2733 - val_accuracy: 0.9235\n",
      "Epoch 31/50\n",
      "60000/60000 [==============================] - 1s 17us/step - loss: 0.2723 - accuracy: 0.9242 - val_loss: 0.2729 - val_accuracy: 0.9235\n",
      "Epoch 32/50\n",
      "60000/60000 [==============================] - 1s 16us/step - loss: 0.2717 - accuracy: 0.9243 - val_loss: 0.2728 - val_accuracy: 0.9236\n",
      "Epoch 33/50\n",
      "60000/60000 [==============================] - 1s 16us/step - loss: 0.2712 - accuracy: 0.9244 - val_loss: 0.2722 - val_accuracy: 0.9236\n",
      "Epoch 34/50\n",
      "60000/60000 [==============================] - 1s 16us/step - loss: 0.2707 - accuracy: 0.9243 - val_loss: 0.2719 - val_accuracy: 0.9243\n",
      "Epoch 35/50\n",
      "60000/60000 [==============================] - 1s 16us/step - loss: 0.2703 - accuracy: 0.9244 - val_loss: 0.2718 - val_accuracy: 0.9242\n",
      "Epoch 36/50\n",
      "60000/60000 [==============================] - 1s 17us/step - loss: 0.2698 - accuracy: 0.9248 - val_loss: 0.2715 - val_accuracy: 0.9239\n",
      "Epoch 37/50\n",
      "60000/60000 [==============================] - 1s 16us/step - loss: 0.2694 - accuracy: 0.9249 - val_loss: 0.2711 - val_accuracy: 0.9244\n",
      "Epoch 38/50\n",
      "60000/60000 [==============================] - 1s 16us/step - loss: 0.2690 - accuracy: 0.9247 - val_loss: 0.2709 - val_accuracy: 0.9244\n",
      "Epoch 39/50\n",
      "60000/60000 [==============================] - 1s 16us/step - loss: 0.2686 - accuracy: 0.9249 - val_loss: 0.2709 - val_accuracy: 0.9240\n",
      "Epoch 40/50\n",
      "60000/60000 [==============================] - 1s 16us/step - loss: 0.2682 - accuracy: 0.9253 - val_loss: 0.2707 - val_accuracy: 0.9241\n",
      "Epoch 41/50\n",
      "60000/60000 [==============================] - 1s 16us/step - loss: 0.2678 - accuracy: 0.9252 - val_loss: 0.2704 - val_accuracy: 0.9246\n",
      "Epoch 42/50\n",
      "60000/60000 [==============================] - 1s 16us/step - loss: 0.2674 - accuracy: 0.9255 - val_loss: 0.2699 - val_accuracy: 0.9249\n",
      "Epoch 43/50\n",
      "60000/60000 [==============================] - 1s 16us/step - loss: 0.2671 - accuracy: 0.9254 - val_loss: 0.2701 - val_accuracy: 0.9243\n",
      "Epoch 44/50\n",
      "60000/60000 [==============================] - 1s 16us/step - loss: 0.2667 - accuracy: 0.9257 - val_loss: 0.2697 - val_accuracy: 0.9244\n",
      "Epoch 45/50\n",
      "60000/60000 [==============================] - 1s 16us/step - loss: 0.2664 - accuracy: 0.9256 - val_loss: 0.2697 - val_accuracy: 0.9248\n",
      "Epoch 46/50\n",
      "60000/60000 [==============================] - 1s 16us/step - loss: 0.2660 - accuracy: 0.9260 - val_loss: 0.2696 - val_accuracy: 0.9248\n",
      "Epoch 47/50\n",
      "60000/60000 [==============================] - 1s 16us/step - loss: 0.2657 - accuracy: 0.9258 - val_loss: 0.2692 - val_accuracy: 0.9244\n",
      "Epoch 48/50\n",
      "60000/60000 [==============================] - 1s 16us/step - loss: 0.2654 - accuracy: 0.9258 - val_loss: 0.2691 - val_accuracy: 0.9253\n",
      "Epoch 49/50\n",
      "60000/60000 [==============================] - 1s 16us/step - loss: 0.2651 - accuracy: 0.9260 - val_loss: 0.2690 - val_accuracy: 0.9246\n",
      "Epoch 50/50\n",
      "60000/60000 [==============================] - 1s 16us/step - loss: 0.2648 - accuracy: 0.9260 - val_loss: 0.2688 - val_accuracy: 0.9252\n",
      "Test loss: 0.2688063976347446\n",
      "Test accuracy: 0.9251999855041504\n"
     ]
    }
   ],
   "source": [
    "batch_size = 64\n",
    "epochs = 50\n",
    "\n",
    "# Run the train\n",
    "model = modelling()\n",
    "history = model.fit(x_train, y_train,\n",
    "                    batch_size=batch_size,\n",
    "                    epochs=epochs,\n",
    "                    verbose=1,\n",
    "                    validation_data=(x_test, y_test))\n",
    "score = model.evaluate(x_test, y_test, verbose=0)\n",
    "print('Test loss:', score[0])\n",
    "print('Test accuracy:', score[1])"
   ]
  },
  {
   "cell_type": "code",
   "execution_count": 35,
   "metadata": {
    "scrolled": false
   },
   "outputs": [
    {
     "data": {
      "text/plain": [
       "<matplotlib.legend.Legend at 0x1a54eb18d0>"
      ]
     },
     "execution_count": 35,
     "metadata": {},
     "output_type": "execute_result"
    },
    {
     "data": {
      "image/png": "[encoded data removed]",
      "text/plain": [
       "<Figure size 720x360 with 2 Axes>"
      ]
     },
     "metadata": {
      "needs_background": "light"
     },
     "output_type": "display_data"
    }
   ],
   "source": [
    "plt.figure(figsize=(10, 5))\n",
    "\n",
    "plt.subplot(121)\n",
    "plt.plot(history.epoch, history.history['accuracy'], lw=1, label='Training')\n",
    "plt.plot(history.epoch, history.history['val_accuracy'], lw=1, label='Testing')\n",
    "plt.title('Accuracy of softmax regression', fontsize=16)\n",
    "plt.xlabel('Epoch', fontsize=14)\n",
    "plt.ylabel('Accuracy', fontsize=14)\n",
    "plt.legend(fontsize=14)\n",
    "\n",
    "plt.subplot(222)\n",
    "plt.plot(history.epoch, history.history['loss'], lw=1, label='Training')\n",
    "plt.plot(history.epoch, history.history['val_loss'], lw=1, label='Testing')\n",
    "plt.title('Loss of softmax regression', fontsize=16)\n",
    "plt.xlabel('Epoch', fontsize=14)\n",
    "plt.ylabel('Loss', fontsize=14)\n",
    "\n",
    "plt.legend(fontsize=14)\n",
    "\n",
    "\n",
    "plt.tight_layout()"
   ]
  },
  {
   "cell_type": "markdown",
   "metadata": {},
   "source": [
    "![](optimal_epochs.PNG)"
   ]
  },
  {
   "cell_type": "markdown",
   "metadata": {},
   "source": [
    "The batch size is fixed to 64. This only aims at finding an optimal number of epochs. So the optimal number of epochs seems to be 30 epochs. Beyond this number, the gain in accuracy increases and the loss keeps decreasing, but it seems to reach a limit and this improvement is poor comparing to the cost of computing such a high number of epochs. Then, we are going to estimate the optimal batch size with the gridsearch methods with a number of epochs in a small range around 30. "
   ]
  },
  {
   "cell_type": "markdown",
   "metadata": {},
   "source": [
    "**Question**\n",
    "\n",
    "Run a cross-validation to analyze the influence of the number of epochs and the batch-size."
   ]
  },
  {
   "cell_type": "code",
   "execution_count": 36,
   "metadata": {},
   "outputs": [
    {
     "name": "stdout",
     "output_type": "stream",
     "text": [
      "Epoch 1/40\n",
      "60000/60000 [==============================] - 2s 33us/step - loss: 0.4576 - accuracy: 0.8831\n",
      "Epoch 2/40\n",
      "60000/60000 [==============================] - 2s 28us/step - loss: 0.3506 - accuracy: 0.9047 1s - loss: 0.3587 - ac - ETA: 0s - los\n",
      "Epoch 3/40\n",
      "60000/60000 [==============================] - 2s 26us/step - loss: 0.3299 - accuracy: 0.9098\n",
      "Epoch 4/40\n",
      "60000/60000 [==============================] - 2s 26us/step - loss: 0.3187 - accuracy: 0.9123\n",
      "Epoch 5/40\n",
      "60000/60000 [==============================] - 2s 26us/step - loss: 0.3111 - accuracy: 0.9144\n",
      "Epoch 6/40\n",
      "60000/60000 [==============================] - 2s 28us/step - loss: 0.3058 - accuracy: 0.9155\n",
      "Epoch 7/40\n",
      "60000/60000 [==============================] - 2s 27us/step - loss: 0.3014 - accuracy: 0.9168\n",
      "Epoch 8/40\n",
      "60000/60000 [==============================] - 2s 26us/step - loss: 0.2980 - accuracy: 0.9173\n",
      "Epoch 9/40\n",
      "60000/60000 [==============================] - 2s 27us/step - loss: 0.2950 - accuracy: 0.9184\n",
      "Epoch 10/40\n",
      "60000/60000 [==============================] - 2s 28us/step - loss: 0.2925 - accuracy: 0.9191\n",
      "Epoch 11/40\n",
      "60000/60000 [==============================] - 2s 26us/step - loss: 0.2904 - accuracy: 0.9196\n",
      "Epoch 12/40\n",
      "60000/60000 [==============================] - 2s 28us/step - loss: 0.2885 - accuracy: 0.9197\n",
      "Epoch 13/40\n",
      "60000/60000 [==============================] - 2s 27us/step - loss: 0.2868 - accuracy: 0.9205\n",
      "Epoch 14/40\n",
      "60000/60000 [==============================] - 2s 28us/step - loss: 0.2852 - accuracy: 0.9209\n",
      "Epoch 15/40\n",
      "60000/60000 [==============================] - 2s 27us/step - loss: 0.2838 - accuracy: 0.9215\n",
      "Epoch 16/40\n",
      "60000/60000 [==============================] - 2s 30us/step - loss: 0.2826 - accuracy: 0.9216\n",
      "Epoch 17/40\n",
      "60000/60000 [==============================] - 2s 27us/step - loss: 0.2814 - accuracy: 0.9216\n",
      "Epoch 18/40\n",
      "60000/60000 [==============================] - 2s 26us/step - loss: 0.2804 - accuracy: 0.9220\n",
      "Epoch 19/40\n",
      "60000/60000 [==============================] - 2s 26us/step - loss: 0.2794 - accuracy: 0.9219\n",
      "Epoch 20/40\n",
      "60000/60000 [==============================] - 2s 26us/step - loss: 0.2784 - accuracy: 0.9226\n",
      "Epoch 21/40\n",
      "60000/60000 [==============================] - 2s 26us/step - loss: 0.2776 - accuracy: 0.9225\n",
      "Epoch 22/40\n",
      "60000/60000 [==============================] - 2s 26us/step - loss: 0.2767 - accuracy: 0.9228\n",
      "Epoch 23/40\n",
      "60000/60000 [==============================] - 2s 26us/step - loss: 0.2760 - accuracy: 0.9230\n",
      "Epoch 24/40\n",
      "60000/60000 [==============================] - 2s 26us/step - loss: 0.2752 - accuracy: 0.9232\n",
      "Epoch 25/40\n",
      "60000/60000 [==============================] - 2s 29us/step - loss: 0.2746 - accuracy: 0.9234\n",
      "Epoch 26/40\n",
      "60000/60000 [==============================] - 2s 29us/step - loss: 0.2739 - accuracy: 0.9234\n",
      "Epoch 27/40\n",
      "60000/60000 [==============================] - 2s 28us/step - loss: 0.2733 - accuracy: 0.9237\n",
      "Epoch 28/40\n",
      "60000/60000 [==============================] - 2s 28us/step - loss: 0.2727 - accuracy: 0.9238\n",
      "Epoch 29/40\n",
      "60000/60000 [==============================] - 2s 32us/step - loss: 0.2721 - accuracy: 0.9243\n",
      "Epoch 30/40\n",
      "60000/60000 [==============================] - 2s 28us/step - loss: 0.2716 - accuracy: 0.9238\n",
      "Epoch 31/40\n",
      "60000/60000 [==============================] - 2s 30us/step - loss: 0.2711 - accuracy: 0.9241\n",
      "Epoch 32/40\n",
      "60000/60000 [==============================] - 2s 32us/step - loss: 0.2706 - accuracy: 0.9244\n",
      "Epoch 33/40\n",
      "60000/60000 [==============================] - 2s 29us/step - loss: 0.2701 - accuracy: 0.9243\n",
      "Epoch 34/40\n",
      "60000/60000 [==============================] - 2s 27us/step - loss: 0.2696 - accuracy: 0.9248\n",
      "Epoch 35/40\n",
      "60000/60000 [==============================] - 2s 28us/step - loss: 0.2692 - accuracy: 0.9248\n",
      "Epoch 36/40\n",
      "60000/60000 [==============================] - 2s 32us/step - loss: 0.2688 - accuracy: 0.9252\n",
      "Epoch 37/40\n",
      "60000/60000 [==============================] - 2s 28us/step - loss: 0.2684 - accuracy: 0.9250\n",
      "Epoch 38/40\n",
      "60000/60000 [==============================] - 2s 28us/step - loss: 0.2679 - accuracy: 0.9252\n",
      "Epoch 39/40\n",
      "60000/60000 [==============================] - 2s 28us/step - loss: 0.2675 - accuracy: 0.9255\n",
      "Epoch 40/40\n",
      "60000/60000 [==============================] - 2s 28us/step - loss: 0.2672 - accuracy: 0.9255\n"
     ]
    },
    {
     "data": {
      "text/plain": [
       "GridSearchCV(cv=3, error_score='raise-deprecating',\n",
       "             estimator=<keras.wrappers.scikit_learn.KerasClassifier object at 0x1a55022b90>,\n",
       "             iid='warn', n_jobs=-1,\n",
       "             param_grid={'batch_size': [16, 32, 64], 'epochs': [30, 40]},\n",
       "             pre_dispatch='2*n_jobs', refit=True, return_train_score=False,\n",
       "             scoring=None, verbose=0)"
      ]
     },
     "execution_count": 36,
     "metadata": {},
     "output_type": "execute_result"
    }
   ],
   "source": [
    "def modelling():\n",
    "    model = Sequential()\n",
    "    model.add(Flatten(input_shape=input_shape, name='flatten'))\n",
    "    model.add(Dense(num_classes, activation='softmax', name='dense_softmax'))\n",
    "    model.compile(\n",
    "        loss=keras.losses.categorical_crossentropy,\n",
    "        optimizer=keras.optimizers.Adagrad(),\n",
    "        metrics=['accuracy'])\n",
    "    return(model)\n",
    "\n",
    "est = KerasClassifier(build_fn=modelling)      \n",
    "\n",
    "parameters = {\n",
    "    'batch_size': [8, 16, 32, 64, 128, 256, 512],\n",
    "    'epochs': [20, 30, 40]}\n",
    "\n",
    "gr_sr = GridSearchCV(         #GridSearchCV considers all hyper-parameters combinations\n",
    "    estimator=est,\n",
    "    param_grid=parameters,\n",
    "    n_jobs=-1,     #means that use all available computing power\n",
    "    cv=3,)         #number of folds for cross validation\n",
    "    \n",
    "\n",
    "gr_sr.fit(x_train,y_train) "
   ]
  },
  {
   "cell_type": "code",
   "execution_count": 10,
   "metadata": {},
   "outputs": [
    {
     "name": "stdout",
     "output_type": "stream",
     "text": [
      "The best parameters found are the following ones:\n"
     ]
    },
    {
     "ename": "NameError",
     "evalue": "name 'gr_sr' is not defined",
     "output_type": "error",
     "traceback": [
      "\u001b[0;31m---------------------------------------------------------------------------\u001b[0m",
      "\u001b[0;31mNameError\u001b[0m                                 Traceback (most recent call last)",
      "\u001b[0;32m<ipython-input-10-cdc9bdba92e4>\u001b[0m in \u001b[0;36m<module>\u001b[0;34m\u001b[0m\n\u001b[1;32m      1\u001b[0m \u001b[0mprint\u001b[0m\u001b[0;34m(\u001b[0m\u001b[0;34m\"The best parameters found are the following ones:\"\u001b[0m\u001b[0;34m)\u001b[0m\u001b[0;34m\u001b[0m\u001b[0;34m\u001b[0m\u001b[0m\n\u001b[0;32m----> 2\u001b[0;31m \u001b[0mprint\u001b[0m\u001b[0;34m(\u001b[0m\u001b[0mgr_sr\u001b[0m\u001b[0;34m.\u001b[0m\u001b[0mbest_params_\u001b[0m\u001b[0;34m)\u001b[0m\u001b[0;34m\u001b[0m\u001b[0;34m\u001b[0m\u001b[0m\n\u001b[0m",
      "\u001b[0;31mNameError\u001b[0m: name 'gr_sr' is not defined"
     ]
    }
   ],
   "source": [
    "print(\"The best parameters found are the following ones:\")\n",
    "print(gr_sr.best_params_)\n"
   ]
  },
  {
   "cell_type": "markdown",
   "metadata": {},
   "source": [
    "![](optimal.PNG)"
   ]
  },
  {
   "cell_type": "markdown",
   "metadata": {},
   "source": [
    "We have also the curves that show the influence of the batch size:"
   ]
  },
  {
   "cell_type": "markdown",
   "metadata": {},
   "source": [
    "![](image1.PNG)\n",
    "![](image2.PNG)\n",
    "![](image3.PNG)\n",
    "![](image4.PNG)\n",
    "![](image5.PNG)\n",
    "![](image6.PNG)\n"
   ]
  },
  {
   "cell_type": "markdown",
   "metadata": {},
   "source": [
    "Weight matrices plots show that the learned weights are consistant with the digits they should predict (see below).\n",
    "You should be able to see rough shapes corresponding to the digits 0, 1, 2, 3, etc."
   ]
  },
  {
   "cell_type": "code",
   "execution_count": 62,
   "metadata": {},
   "outputs": [
    {
     "data": {
      "image/png": "[encoded data removed]",
      "text/plain": [
       "<Figure size 720x360 with 10 Axes>"
      ]
     },
     "metadata": {
      "needs_background": "light"
     },
     "output_type": "display_data"
    }
   ],
   "source": [
    "best_model = gr_sr.best_estimator_.model\n",
    "weights, biases = best_model.get_layer('dense_softmax').get_weights()\n",
    "imgs = weights.reshape(28, 28, 10)\n",
    "\n",
    "fig = plt.figure(figsize=(10, 5))\n",
    "vmin, vmax = imgs.min(), imgs.max()\n",
    "for i in range(10):\n",
    "    ax = plt.subplot(2, 5, i + 1)\n",
    "    im = imgs[:, :, i]\n",
    "    mappable = ax.imshow(im, interpolation=\"nearest\", \n",
    "                         vmin=vmin, vmax=vmax, cmap='bwr')\n",
    "    ax.axis('off')\n",
    "    ax.set_title(\"%i\" % i)\n",
    "plt.tight_layout()"
   ]
  },
  {
   "cell_type": "code",
   "execution_count": 63,
   "metadata": {},
   "outputs": [],
   "source": [
    "del model, est, gr_sr, best_parameters"
   ]
  },
  {
   "cell_type": "markdown",
   "metadata": {},
   "source": [
    "### <font color=darkred> Feed-Forward Neural Network (FFNN)</font>\n",
    "\n",
    "The softmax regression you just trained is a linear model, with 7850 parameters. \n",
    "It is easy to fit, numerically stable, but might be too simple for some tasks. \n",
    "The idea behind neural networks is to have a nonlinear model, while keeping the nice features of linear ones. \n",
    "The idea is to keep parameters into linear functions, and link these small linear model using non linear operations.\n",
    "\n",
    "A simple nonlinearity which is often used to do this is the rectified linear unit\n",
    "$\\text{ReLU}(x) = \\max(0, x)$\n",
    "\n",
    "The derivative of this function is very easy to compute, and it is parameter-free. If we stack models such as softmax regression and ReLUs, it is still very easy to compute the gradient using the chain rule, as the model is a combination of simple functions.\n",
    "\n",
    "The backpropagation algorithm allows efficient computation of complex derivatives as long as the function is made of simple blocks with simple derivatives. \n",
    "This algorithm efficiency is based on data reuse: when working with parallel architectures such as GPUs, you want to minimize communication (data transfer) as it is very time consuming in comparison to the computing time.\n",
    "\n",
    "**Question**\n",
    "\n",
    "Create the graph for a fully connected feed-forward neural network with one hidden layer with 128 units and a relu activation function. "
   ]
  },
  {
   "cell_type": "code",
   "execution_count": 83,
   "metadata": {},
   "outputs": [
    {
     "name": "stdout",
     "output_type": "stream",
     "text": [
      "Model: \"sequential_23\"\n",
      "_________________________________________________________________\n",
      "Layer (type)                 Output Shape              Param #   \n",
      "=================================================================\n",
      "flatten_5 (Flatten)          (None, 784)               0         \n",
      "_________________________________________________________________\n",
      "dense_12 (Dense)             (None, 128)               100480    \n",
      "_________________________________________________________________\n",
      "dense_13 (Dense)             (None, 10)                1290      \n",
      "=================================================================\n",
      "Total params: 101,770\n",
      "Trainable params: 101,770\n",
      "Non-trainable params: 0\n",
      "_________________________________________________________________\n"
     ]
    }
   ],
   "source": [
    "model_ffnn = Sequential()\n",
    "\n",
    "model_ffnn.add(Flatten(input_shape=input_shape))\n",
    "###\n",
    "model_ffnn.add(Dense(128, activation='relu'))\n",
    "###\n",
    "model_ffnn.add(Dense(num_classes, activation='softmax'))\n",
    "\n",
    "model_ffnn.compile(\n",
    "    loss=keras.losses.categorical_crossentropy,\n",
    "    optimizer=keras.optimizers.Adagrad(),\n",
    "    metrics=['accuracy']\n",
    ")\n",
    "\n",
    "model_ffnn.summary()"
   ]
  },
  {
   "cell_type": "code",
   "execution_count": 84,
   "metadata": {
    "scrolled": false
   },
   "outputs": [
    {
     "name": "stdout",
     "output_type": "stream",
     "text": [
      "Train on 60000 samples, validate on 10000 samples\n",
      "Epoch 1/10\n",
      "60000/60000 [==============================] - 3s 51us/step - loss: 0.2654 - accuracy: 0.9248 - val_loss: 0.1837 - val_accuracy: 0.9489\n",
      "Epoch 2/10\n",
      "60000/60000 [==============================] - 3s 54us/step - loss: 0.1638 - accuracy: 0.9549 - val_loss: 0.1461 - val_accuracy: 0.9581\n",
      "Epoch 3/10\n",
      "60000/60000 [==============================] - 3s 55us/step - loss: 0.1357 - accuracy: 0.9623 - val_loss: 0.1299 - val_accuracy: 0.9617\n",
      "Epoch 4/10\n",
      "60000/60000 [==============================] - 3s 51us/step - loss: 0.1192 - accuracy: 0.9671 - val_loss: 0.1207 - val_accuracy: 0.9647\n",
      "Epoch 5/10\n",
      "60000/60000 [==============================] - 3s 53us/step - loss: 0.1076 - accuracy: 0.9704 - val_loss: 0.1134 - val_accuracy: 0.9670\n",
      "Epoch 6/10\n",
      "60000/60000 [==============================] - 3s 52us/step - loss: 0.0987 - accuracy: 0.9725 - val_loss: 0.1095 - val_accuracy: 0.9674\n",
      "Epoch 7/10\n",
      "60000/60000 [==============================] - 3s 50us/step - loss: 0.0918 - accuracy: 0.9753 - val_loss: 0.1038 - val_accuracy: 0.9696\n",
      "Epoch 8/10\n",
      "60000/60000 [==============================] - 3s 51us/step - loss: 0.0861 - accuracy: 0.9767 - val_loss: 0.1003 - val_accuracy: 0.9704\n",
      "Epoch 9/10\n",
      "60000/60000 [==============================] - 3s 58us/step - loss: 0.0814 - accuracy: 0.9781 - val_loss: 0.0968 - val_accuracy: 0.9718\n",
      "Epoch 10/10\n",
      "60000/60000 [==============================] - 3s 52us/step - loss: 0.0772 - accuracy: 0.9793 - val_loss: 0.0949 - val_accuracy: 0.9722\n",
      "Test loss: 0.09494694181438536\n",
      "Test accuracy: 0.9721999764442444\n"
     ]
    }
   ],
   "source": [
    "batch_size = 32\n",
    "epochs = 10\n",
    "\n",
    "# Run the train\n",
    "history = model_ffnn.fit(x_train, y_train,\n",
    "                         batch_size=batch_size,\n",
    "                         epochs=epochs,\n",
    "                         verbose=1,\n",
    "                         validation_data=(x_test, y_test))\n",
    "score = model_ffnn.evaluate(x_test, y_test, verbose=0)\n",
    "print('Test loss:', score[0])\n",
    "print('Test accuracy:', score[1])"
   ]
  },
  {
   "cell_type": "code",
   "execution_count": null,
   "metadata": {},
   "outputs": [],
   "source": [
    "plt.figure(figsize=(7, 5))\n",
    "plt.plot(history.epoch, history.history['accuracy'], lw=3, label='Training')\n",
    "plt.plot(history.epoch, history.history['val_accuracy'], lw=3, label='Testing')\n",
    "plt.legend(fontsize=14)\n",
    "plt.title('Accuracy of softmax regression', fontsize=16)\n",
    "plt.xlabel('Epoch', fontsize=14)\n",
    "plt.ylabel('Accuracy', fontsize=14)\n",
    "plt.tight_layout()"
   ]
  },
  {
   "cell_type": "markdown",
   "metadata": {},
   "source": [
    "**Question**\n",
    "\n",
    "Run a cross-validation to analyze the influence of the the number of units of the hidden layer, the number of epochs and the batch-size."
   ]
  },
  {
   "cell_type": "code",
   "execution_count": 9,
   "metadata": {},
   "outputs": [
    {
     "name": "stdout",
     "output_type": "stream",
     "text": [
      "Epoch 1/30\n",
      "60000/60000 [==============================] - 10s 171us/step - loss: 0.1909 - accuracy: 0.9447\n",
      "Epoch 2/30\n",
      "60000/60000 [==============================] - 9s 152us/step - loss: 0.0982 - accuracy: 0.9726\n",
      "Epoch 3/30\n",
      "60000/60000 [==============================] - 9s 157us/step - loss: 0.0752 - accuracy: 0.9791\n",
      "Epoch 4/30\n",
      "60000/60000 [==============================] - 8s 136us/step - loss: 0.0621 - accuracy: 0.9834\n",
      "Epoch 5/30\n",
      "60000/60000 [==============================] - 9s 148us/step - loss: 0.0531 - accuracy: 0.9861\n",
      "Epoch 6/30\n",
      "60000/60000 [==============================] - 9s 149us/step - loss: 0.0462 - accuracy: 0.9884\n",
      "Epoch 7/30\n",
      "60000/60000 [==============================] - 8s 137us/step - loss: 0.0409 - accuracy: 0.9900\n",
      "Epoch 8/30\n",
      "60000/60000 [==============================] - 9s 156us/step - loss: 0.0367 - accuracy: 0.9915\n",
      "Epoch 9/30\n",
      "60000/60000 [==============================] - 10s 165us/step - loss: 0.0331 - accuracy: 0.9924\n",
      "Epoch 10/30\n",
      "60000/60000 [==============================] - 9s 149us/step - loss: 0.0301 - accuracy: 0.9934\n",
      "Epoch 11/30\n",
      "60000/60000 [==============================] - 11s 177us/step - loss: 0.0275 - accuracy: 0.9944\n",
      "Epoch 12/30\n",
      "60000/60000 [==============================] - 9s 149us/step - loss: 0.0254 - accuracy: 0.9948\n",
      "Epoch 13/30\n",
      "60000/60000 [==============================] - 9s 143us/step - loss: 0.0234 - accuracy: 0.9954\n",
      "Epoch 14/30\n",
      "60000/60000 [==============================] - 9s 145us/step - loss: 0.0217 - accuracy: 0.9962\n",
      "Epoch 15/30\n",
      "60000/60000 [==============================] - 9s 146us/step - loss: 0.0202 - accuracy: 0.9966\n",
      "Epoch 16/30\n",
      "60000/60000 [==============================] - 10s 175us/step - loss: 0.0188 - accuracy: 0.9970\n",
      "Epoch 17/30\n",
      "60000/60000 [==============================] - 10s 167us/step - loss: 0.0177 - accuracy: 0.9972\n",
      "Epoch 18/30\n",
      "60000/60000 [==============================] - 8s 141us/step - loss: 0.0165 - accuracy: 0.9975\n",
      "Epoch 19/30\n",
      "60000/60000 [==============================] - 11s 182us/step - loss: 0.0156 - accuracy: 0.9979\n",
      "Epoch 20/30\n",
      "60000/60000 [==============================] - 10s 159us/step - loss: 0.0147 - accuracy: 0.9981\n",
      "Epoch 21/30\n",
      "60000/60000 [==============================] - 9s 156us/step - loss: 0.0138 - accuracy: 0.9983\n",
      "Epoch 22/30\n",
      "60000/60000 [==============================] - 8s 138us/step - loss: 0.0131 - accuracy: 0.9985\n",
      "Epoch 23/30\n",
      "60000/60000 [==============================] - 9s 142us/step - loss: 0.0125 - accuracy: 0.9987\n",
      "Epoch 24/30\n",
      "60000/60000 [==============================] - 8s 138us/step - loss: 0.0118 - accuracy: 0.9988\n",
      "Epoch 25/30\n",
      "60000/60000 [==============================] - 9s 142us/step - loss: 0.0113 - accuracy: 0.9988\n",
      "Epoch 26/30\n",
      "60000/60000 [==============================] - 10s 171us/step - loss: 0.0108 - accuracy: 0.9990\n",
      "Epoch 27/30\n",
      "60000/60000 [==============================] - 8s 131us/step - loss: 0.0103 - accuracy: 0.9991\n",
      "Epoch 28/30\n",
      "60000/60000 [==============================] - 8s 141us/step - loss: 0.0098 - accuracy: 0.9992\n",
      "Epoch 29/30\n",
      "60000/60000 [==============================] - 10s 174us/step - loss: 0.0094 - accuracy: 0.9992\n",
      "Epoch 30/30\n",
      "60000/60000 [==============================] - 10s 169us/step - loss: 0.0090 - accuracy: 0.9994\n"
     ]
    },
    {
     "data": {
      "text/plain": [
       "GridSearchCV(cv=3, error_score='raise-deprecating',\n",
       "             estimator=<keras.wrappers.scikit_learn.KerasClassifier object at 0x1a495dead0>,\n",
       "             iid='warn', n_jobs=-1,\n",
       "             param_grid={'batch_size': [16, 32, 64], 'epochs': [20, 30],\n",
       "                         'nb_neuron': [128, 256, 512]},\n",
       "             pre_dispatch='2*n_jobs', refit=True, return_train_score=False,\n",
       "             scoring=None, verbose=0)"
      ]
     },
     "execution_count": 9,
     "metadata": {},
     "output_type": "execute_result"
    }
   ],
   "source": [
    "def modelling_ffnn(nb_neuron = 128):\n",
    "    model = Sequential()\n",
    "    model.add(Flatten(input_shape=input_shape))\n",
    "    model.add(Dense(nb_neuron, activation='relu'))\n",
    "    model.add(Dense(num_classes, activation='softmax'))\n",
    "    model.compile(\n",
    "        loss=keras.losses.categorical_crossentropy,\n",
    "        optimizer=keras.optimizers.Adagrad(),\n",
    "        metrics=['accuracy'])\n",
    "    return(model)\n",
    "\n",
    "parameters = {\n",
    "    'nb_neuron': [128, 256, 512],\n",
    "    'batch_size': [16, 32, 64],\n",
    "    'epochs': [20, 30]}\n",
    "\n",
    "est = KerasClassifier(build_fn=modelling_ffnn)\n",
    "\n",
    "gr_sh = GridSearchCV(\n",
    "    estimator= est,\n",
    "    param_grid=parameters,\n",
    "    n_jobs=-1,     #means that use all available computing power\n",
    "    cv=3,)         #number of folds for cross validation\n",
    "    \n",
    "gr_sh.fit(x_train,y_train) \n",
    "\n"
   ]
  },
  {
   "cell_type": "code",
   "execution_count": 11,
   "metadata": {},
   "outputs": [
    {
     "name": "stdout",
     "output_type": "stream",
     "text": [
      "The best parameters found are the following ones:\n",
      "{'batch_size': 16, 'epochs': 30, 'nb_neuron': 512}\n"
     ]
    }
   ],
   "source": [
    "print(\"The best parameters found are the following ones:\")\n",
    "print(gr_sh.best_params_)"
   ]
  },
  {
   "cell_type": "markdown",
   "metadata": {},
   "source": [
    "![](capture.PNG)"
   ]
  },
  {
   "cell_type": "markdown",
   "metadata": {},
   "source": [
    "### <font color=darkred> Convolutional Neural Networks </font>\n",
    "\n",
    "In practice, increasing the size of hidden layers is not very effective. \n",
    "It is often a better idea to add more layers. \n",
    "Intuitively, if the observations have a hierarchical structure, adding more layers can be interpreted as a way to learn more levels of abstraction.  For example, in object detection tasks, it is easier to express shapes from edges and objects from shapes, than to express objects from pixels.  Thus, a good design should try to exploit this hierarchy.\n",
    "\n",
    "In particular cases, such as grid-like data (time series, images), the observations can depend on a pattern which can be associated with different locations of the data. \n",
    "For example, an object can be in the middle or the left of the picture. \n",
    "Thus, the model has to be translation invariant: it is easier to learn how to recognize an object independently of its location. \n",
    "\n",
    "When two inputs might contain the same kind of information, then it is useful to share their weights and estimate the weights jointly for those inputs to learn statistical invariants (things that don't change much on average across time or space). \n",
    "Using this concept on images leads to convolutional neural networks (CNNs), on text, it results on recurrent neural networks (RNNs).  When using CNNs, weights are set to a small kernel that is used to perform a convolution across the image.\n",
    "\n",
    "In the previous example, the step ``model_ffnn.add(Flatten(input_shape=input_shape))`` destroys the spatial organization of the input but is mandatory before the fully connected step: ``model_ffnn.add(Dense(128, activation='relu'))``. The spatial organization of the input may be preserved before using Flatten by convolution steps such as ``model_cnn.add(Conv2D(32, kernel_size=(3, 3), activation='relu', input_shape=input_shape))``. This layer has 32 outputs, each of which depending on a 3*3 weight matrix.\n",
    "\n",
    "Each output neuron of the next layer is computed as follows (image taken from https://adventuresinmachinelearning.com/convolutional-neural-networks-tutorial-tensorflow/) before computing an elementwise RELU function:\n",
    "<img src=\"conv.PNG\">\n",
    "\n",
    "The convolution maps patches of the input image, combined with the convolution kernel, for example\n",
    "$$\n",
    "\\text{output} = \\text{ReLU}(\\text{patch} \\times W + b)\\,.\n",
    "$$\n",
    "\n",
    "Performing the convolution between the image and the weight matrix consists in moving the kernel across the image, and to produce an output for each patch. The way you move across the image is defined by two parameters:\n",
    "\n",
    "- ``Stride``: the stride is the number of pixels you are shifting each time you move your kernel during the convolution.\n",
    "- ``Padding``: defines what happens when the kernel reaches a border of the image when doing the convolution. \n",
    "\"Valid\" padding means that you stop at the edge, while \"Same\" padding allows to go off the edge and pad with zeros so that the width and the height of the output and input tensors are the same.\n",
    "\n",
    "A classical approach is to use a stride of 1 and to combine theoutputs being in some neighborhood. Such an operation combining elements of a tensor is called ``pooling``: ``model_cnn.add(MaxPooling2D(pool_size=(2, 2)))``. Neighborhoods are define by the pooling window dimension (width x height) and the strides you use when moving this window across the image.  Again, a sliding window is applied along the input to produce the output, the most common function applied on each window being the ma function: it aggregates several outputs in a neighborhood $N$ using a max operation: \n",
    "$$\n",
    "\\text{output}'_i = \\max_{j \\in N}\\text{output}_j, \\quad i \\in N.\n",
    "$$\n",
    "The formulas to compute the size of the ouput tensor are the same as for convolution padding and striding: (image taken from https://adventuresinmachinelearning.com/convolutional-neural-networks-tutorial-tensorflow/):\n",
    "<img src=\"maxpool.PNG\">"
   ]
  },
  {
   "cell_type": "code",
   "execution_count": null,
   "metadata": {
    "scrolled": false
   },
   "outputs": [],
   "source": [
    "model_cnn = Sequential()\n",
    "\n",
    "###\n",
    "model_cnn.add(Conv2D(32, kernel_size=(3, 3), activation='relu', input_shape=input_shape))\n",
    "model_cnn.add(Flatten(input_shape=input_shape))\n",
    "model_cnn.add(Dense(num_classes, activation='softmax'))\n",
    "###\n",
    "                    \n",
    "model_cnn.compile(loss=keras.losses.categorical_crossentropy,\n",
    "                  optimizer=keras.optimizers.Adadelta(),\n",
    "                  metrics=['accuracy'])\n",
    "\n",
    "model_cnn.summary()"
   ]
  },
  {
   "cell_type": "code",
   "execution_count": null,
   "metadata": {
    "scrolled": true
   },
   "outputs": [],
   "source": [
    "batch_size = 32\n",
    "epochs = 5\n",
    "\n",
    "# Run the train\n",
    "history = model_cnn.fit(x_train, y_train,\n",
    "                        batch_size=batch_size,\n",
    "                        epochs=epochs,\n",
    "                        verbose=1,\n",
    "                        validation_data=(x_test, y_test))\n",
    "score = model_cnn.evaluate(x_test, y_test, verbose=0)\n",
    "print('Test loss:', score[0])\n",
    "print('Test accuracy:', score[1])"
   ]
  },
  {
   "cell_type": "code",
   "execution_count": null,
   "metadata": {
    "scrolled": false
   },
   "outputs": [],
   "source": [
    "plt.figure(figsize=(7, 5))\n",
    "plt.plot(history.epoch, history.history['acc'], lw=3, label='Training')\n",
    "plt.plot(history.epoch, history.history['val_acc'], lw=3, label='Testing')\n",
    "plt.legend(fontsize=14)\n",
    "plt.title('Accuracy of softmax regression', fontsize=16)\n",
    "plt.xlabel('Epoch', fontsize=14)\n",
    "plt.ylabel('Accuracy', fontsize=14)\n",
    "plt.tight_layout()"
   ]
  },
  {
   "cell_type": "markdown",
   "metadata": {},
   "source": [
    "### <font color=darkred> notMNIST</font>\n",
    "\n",
    "MNIST is a very very **clean** dataset. Digits are rescaled, smoothed, centered, and pixel values are normalized beforehand. Let's switch to a slightly harder dataset: [notMNIST](http://yaroslavvb.blogspot.com/2011/09/notmnist-dataset.html).\n",
    "\n",
    "This time, labels are letters from 'A' to 'J' (10 classes). \n",
    "These letters are taken from digital fonts instead of handwriting pictures. \n",
    "We will use a reduced amount of data to ensure a reasonable training time. \n",
    "The training set you will use has 200K labelled examples, while the validation and test sets both contain 10K labelled examples."
   ]
  },
  {
   "cell_type": "code",
   "execution_count": null,
   "metadata": {},
   "outputs": [],
   "source": [
    "import urllib"
   ]
  },
  {
   "cell_type": "code",
   "execution_count": null,
   "metadata": {},
   "outputs": [],
   "source": [
    "pickle_file = './notMNIST.pickle'\n",
    "\n",
    "with open(pickle_file, 'rb') as f:\n",
    "    data = pkl.load(f)"
   ]
  },
  {
   "cell_type": "code",
   "execution_count": null,
   "metadata": {
    "scrolled": true
   },
   "outputs": [],
   "source": [
    "data.keys()"
   ]
  },
  {
   "cell_type": "code",
   "execution_count": null,
   "metadata": {},
   "outputs": [],
   "source": [
    "def reshape(x, image_data_format, img_rows, img_cols):\n",
    "    if image_data_format == 'channels_first':\n",
    "        return x.astype(np.float32).reshape((-1, 1, img_rows, img_cols))\n",
    "    else:\n",
    "        return x.astype(np.float32).reshape((-1, img_rows, img_cols, 1))\n",
    "\n",
    "img_rows, img_cols = 28, 28\n",
    "num_labels = 10\n",
    "image_data_format = K.image_data_format()\n",
    "\n",
    "if image_data_format == 'channels_first':\n",
    "    input_shape = (1, img_rows, img_cols)\n",
    "else:\n",
    "    input_shape = (img_rows, img_cols, 1)\n",
    "    \n",
    "x_train = reshape(data['train_dataset'], image_data_format, img_rows, img_cols)\n",
    "x_valid = reshape(data['valid_dataset'], image_data_format, img_rows, img_cols)\n",
    "x_test = reshape(data['test_dataset'], image_data_format, img_rows, img_cols)\n",
    "\n",
    "y_train = keras.utils.to_categorical(data['train_labels'])\n",
    "y_valid = keras.utils.to_categorical(data['valid_labels'])\n",
    "y_test = keras.utils.to_categorical(data['test_labels'])\n",
    "\n",
    "print('x_train shape:', x_train.shape)\n",
    "print('x_valid shape:', x_valid.shape)\n",
    "print('x_test shape:', x_test.shape)\n",
    "print('y_train shape:', y_train.shape)\n",
    "print('y_valid shape:', y_valid.shape)\n",
    "print('y_test shape:', y_test.shape)\n",
    "\n",
    "print(x_train.shape[0], 'training samples')\n",
    "print(x_valid.shape[0], 'validation samples')\n",
    "print(x_test.shape[0], 'testing samples')"
   ]
  },
  {
   "cell_type": "code",
   "execution_count": null,
   "metadata": {
    "scrolled": false
   },
   "outputs": [],
   "source": [
    "# plt.figure(figsize=(8, 4))\n",
    "n_rows = 10\n",
    "n_cols = 8\n",
    "plt.figure(figsize=(n_cols, n_rows))\n",
    "\n",
    "letters = ['A', 'B', 'C', 'D', 'E', 'F', 'G', 'H', 'I', 'J']\n",
    "def get_label(y):\n",
    "    return letters[y.argmax()]\n",
    "\n",
    "for i in range(n_rows * n_cols):\n",
    "    ax = plt.subplot(n_rows, n_cols, i+1)\n",
    "    ax.imshow(x_train[i].reshape(28, 28),\n",
    "               interpolation=\"none\", cmap=\"gray_r\")\n",
    "    ax.set_title(get_label(y_train[i]), fontsize=14)\n",
    "    ax.axis(\"off\")\n",
    "plt.tight_layout()"
   ]
  },
  {
   "cell_type": "markdown",
   "metadata": {},
   "source": [
    "**Question**\n",
    "\n",
    "Train a softmax regression, visualize the weights, plot the convergence curves, save the model and its history (start with a small number of epochs, and increase the number of epochs)."
   ]
  },
  {
   "cell_type": "code",
   "execution_count": null,
   "metadata": {},
   "outputs": [],
   "source": [
    "batch_size = [32]\n",
    "list_epochs = [2,5,10,30,50]\n",
    "\n",
    "for nb_epochs in list_epochs:\n",
    "    for b in batch_size:\n",
    "      model = Sequential()\n",
    "      model.add(Flatten(input_shape=input_shape, name='flatten'))\n",
    "      model.add(Dense(num_classes, activation='softmax', name='dense_softmax'))\n",
    "      model.compile(\n",
    "          loss=keras.losses.categorical_crossentropy,\n",
    "          optimizer=keras.optimizers.Adagrad(),\n",
    "          metrics=['accuracy']\n",
    "      )\n",
    "    \n",
    "      history = model.fit(x_train, y_train,\n",
    "                          batch_size=b,\n",
    "                          epochs=nb_epochs,\n",
    "                          verbose=1,\n",
    "                          validation_data=(x_test, y_test))\n",
    "    \n",
    "      loss=history.history[\"loss\"]\n",
    "      acc=history.history[\"accuracy\"]\n",
    "      val_loss=history.history[\"val_loss\"]\n",
    "      val_acc=history.history[\"val_accuracy\"]\n",
    "      \n",
    "      epochs=np.arange(1, nb_epochs + 1)\n",
    "    \n",
    "      plt.figure(figsize=(7, 5))\n",
    "      plt.plot(epochs, loss, label =\"Training\")\n",
    "      plt.plot(epochs, val_loss, label =\"Testing\")\n",
    "      plt.legend(fontsize=14)\n",
    "      plt.title('Loss of softmax regression, batch_size = ' + str(b), fontsize=16)\n",
    "      plt.xlabel('Epoch', fontsize=14)\n",
    "      plt.ylabel('Loss', fontsize=14)\n",
    "    \n",
    "    \n",
    "      plt.figure(figsize=(7, 5))\n",
    "      plt.plot(epochs, acc, label =\"Training\")\n",
    "      plt.plot(epochs, val_acc, label =\"Testing\")\n",
    "      plt.legend(fontsize=14)\n",
    "      plt.title('Accuracy of softmax regression, batch size = ' + str(b), fontsize=16)\n",
    "      plt.xlabel('Epoch', fontsize=14)\n",
    "      plt.ylabel('Accuracy', fontsize=14)\n",
    "      \n",
    "      weights, biases = model.get_layer('dense_softmax').get_weights()\n",
    "      imgs = weights.reshape(28, 28, 10)\n",
    "        \n",
    "      fig = plt.figure(figsize=(10, 5))\n",
    "      vmin, vmax = imgs.min(), imgs.max()\n",
    "      for i in range(10):\n",
    "          ax = plt.subplot(2, 5, i + 1)\n",
    "          im = imgs[:, :, i]\n",
    "          mappable = ax.imshow(im, interpolation=\"nearest\",\n",
    "                                 vmin=vmin, vmax=vmax, cmap='bwr')\n",
    "          ax.axis('off')\n",
    "          ax.set_title(\"%i\" % i)\n",
    "      plt.tight_layout()\n"
   ]
  },
  {
   "cell_type": "markdown",
   "metadata": {},
   "source": [
    "![](softmax1.PNG)"
   ]
  },
  {
   "cell_type": "markdown",
   "metadata": {},
   "source": [
    "![](softmax2.PNG)"
   ]
  },
  {
   "cell_type": "markdown",
   "metadata": {},
   "source": [
    "**Question**\n",
    "\n",
    "Train FFNN with one hidden layer with 128 units, visualize the convergence curves, save the history."
   ]
  },
  {
   "cell_type": "code",
   "execution_count": null,
   "metadata": {},
   "outputs": [],
   "source": [
    "batch_size = [32]\n",
    "nb_epochs = 100\n",
    "nb_units=[128]\n",
    "epochs=np.arange(1, nb_epochs + 1)\n",
    "\n",
    "for b in batch_size:\n",
    "  for units in nb_units:\n",
    "    model_ffnn = Sequential()\n",
    "\n",
    "    model_ffnn.add(Flatten(input_shape=input_shape))\n",
    "    model_ffnn.add(Dense(units, activation=\"relu\"))\n",
    "    model_ffnn.add(Dense(num_classes, activation='softmax'))\n",
    "    model_ffnn.compile(\n",
    "        loss=keras.losses.categorical_crossentropy,\n",
    "        optimizer=keras.optimizers.Adagrad(),\n",
    "        metrics=['accuracy']\n",
    "    )\n",
    "\n",
    "\n",
    "    history = model_ffnn.fit(x_train, y_train,\n",
    "                        batch_size=b,\n",
    "                        epochs=nb_epochs,\n",
    "                        verbose=1,\n",
    "                        validation_data=(x_test, y_test))\n",
    "\n",
    "    loss=history.history[\"loss\"]\n",
    "    acc=history.history[\"accuracy\"]\n",
    "    val_loss=history.history[\"val_loss\"]\n",
    "    val_acc=history.history[\"val_accuracy\"]\n",
    "\n",
    "    plt.figure(figsize=(7, 5))\n",
    "    plt.plot(epochs, loss, label =\"Training\")\n",
    "    plt.plot(epochs, val_loss, label =\"Testing\")\n",
    "    plt.legend(fontsize=14)\n",
    "    plt.title('Loss of softmax regression, batch_size = ' + str(b) + \" et nombre units = \" + str(units), fontsize=16)\n",
    "    plt.xlabel('Epoch', fontsize=14)\n",
    "    plt.ylabel('Loss', fontsize=14)\n",
    "\n",
    "\n",
    "    plt.figure(figsize=(7, 5))\n",
    "    plt.plot(epochs, acc, label =\"Training\")\n",
    "    plt.plot(epochs, val_acc, label =\"Testing\")\n",
    "    plt.legend(fontsize=14)\n",
    "    plt.title('Accuracy of softmax regression, batch size = ' + str(b) + \" et nombre units = \" + str(units), fontsize=16)\n",
    "    plt.xlabel('Epoch', fontsize=14)\n",
    "    plt.ylabel('Accuracy', fontsize=14)\n"
   ]
  },
  {
   "cell_type": "markdown",
   "metadata": {},
   "source": [
    "![](courbe1.png)"
   ]
  },
  {
   "cell_type": "markdown",
   "metadata": {},
   "source": [
    "![](courbe2.png)"
   ]
  },
  {
   "cell_type": "markdown",
   "metadata": {},
   "source": [
    "**Question**\n",
    "\n",
    "Train a CNN with the following structure:\n",
    "\n",
    "1. Convolutional layer with 32 filters and 5 * 5 kernel sizes and 'relu' activation\n",
    "- Max pooling with pool size 2 * 2\n",
    "- Convolutional layer with 64 filters and 5 * 5 kernel sizes and 'relu' activation\n",
    "- Max pooling with pool size 2 * 2\n",
    "- Dropout with probability 0.25\n",
    "- Dense layer with 1024 units\n",
    "- Dropout with probability 0.5\n",
    "- Dense output layer with softmax activation\n",
    "\n",
    "Use the Adam solver. Train for 20 epochs."
   ]
  },
  {
   "cell_type": "code",
   "execution_count": null,
   "metadata": {},
   "outputs": [],
   "source": [
    "model_cnn = Sequential()\n",
    "model_cnn.add(Conv2D(32, kernel_size=(5, 5), activation='relu', input_shape=input_shape))\n",
    "model_cnn.add(MaxPooling2D(pool_size=(2, 2)))\n",
    "\n",
    "model_cnn.add(Conv2D(64, kernel_size=(5, 5), activation='relu'))\n",
    "model_cnn.add(MaxPooling2D(pool_size=(2, 2)))\n",
    "model_cnn.add(Dropout(0.25))\n",
    "model_cnn.add(Dense(1024, activation=\"relu\"))\n",
    "model_cnn.add(Dropout(0.25))\n",
    "model_cnn.add(Flatten(input_shape=input_shape))\n",
    "model_cnn.add(Dense(num_classes, activation='softmax'))\n",
    "                    \n",
    "model_cnn.compile(loss=keras.losses.categorical_crossentropy,\n",
    "                  optimizer=keras.optimizers.Adam(),\n",
    "                  metrics=['accuracy'])\n",
    "\n",
    "model_cnn.summary()\n",
    "\n",
    "history = model_cnn.fit(x_train, y_train,\n",
    "                        batch_size=64,\n",
    "                        epochs=20,\n",
    "                        verbose=1,\n",
    "                        validation_data=(x_test, y_test))\n",
    "\n",
    "loss=history.history[\"loss\"]\n",
    "acc=history.history[\"accuracy\"]\n",
    "val_loss=history.history[\"val_loss\"]\n",
    "val_acc=history.history[\"val_accuracy\"]\n",
    "\n",
    "plt.figure(figsize=(7, 5))\n",
    "plt.plot(np.arange(1,21), loss, label =\"Training\")\n",
    "plt.plot(np.arange(1,21), val_loss, label =\"Testing\")\n",
    "plt.legend(fontsize=14)\n",
    "plt.title('Loss of softmax regression, batch_size = 32'+ \" et nombre units = 128\" + str(units), fontsize=16)\n",
    "plt.xlabel('Epoch', fontsize=14)\n",
    "plt.ylabel('Loss', fontsize=14)\n",
    "\n",
    "\n",
    "plt.figure(figsize=(7, 5))\n",
    "plt.plot(np.arange(1,21), acc, label =\"Training\")\n",
    "plt.plot(np.arange(1,21), val_acc, label =\"Testing\")\n",
    "plt.legend(fontsize=14)\n",
    "plt.title('Accuracy of softmax regression, batch size = 32' + \" et nombre units = 128\", fontsize=16)\n",
    "plt.xlabel('Epoch', fontsize=14)\n",
    "plt.ylabel('Accuracy', fontsize=14)\n"
   ]
  },
  {
   "cell_type": "markdown",
   "metadata": {},
   "source": [
    "![](courbe3.PNG)\n",
    "![](courbe4.PNG)"
   ]
  },
  {
   "cell_type": "markdown",
   "metadata": {},
   "source": [
    "**Question**\n",
    "\n",
    "Run a cross-validation to analyze the influence of the kernel sizes (step 1 and 3), the activation functions (step 1 and 3) and the number of units of the hidden layer (step 6)."
   ]
  },
  {
   "cell_type": "code",
   "execution_count": null,
   "metadata": {},
   "outputs": [],
   "source": [
    "kernel_size= [1,2,3,5,7,10]\n",
    "activation_function=[keras.optimizers.Adam(), keras.optimizers.Adagrad()]\n",
    "units=[8,16,32,64,218,256]\n",
    "\n",
    "for k in kernel_size:\n",
    "    for a in activation_function:\n",
    "        for u in units:\n",
    "            model_cnn = Sequential()\n",
    "            model_cnn.add(Conv2D(32, kernel_size=(5, 5), activation='relu', input_shape=input_shape))\n",
    "            model_cnn.add(MaxPooling2D(pool_size=(2, 2)))\n",
    "            \n",
    "            model_cnn.add(Conv2D(64, kernel_size=(5, 5), activation='relu'))\n",
    "            model_cnn.add(MaxPooling2D(pool_size=(2, 2)))\n",
    "            model_cnn.add(Dropout(0.25))\n",
    "            model_cnn.add(Dense(1024, activation=\"relu\"))\n",
    "            model_cnn.add(Dropout(0.25))\n",
    "            model_cnn.add(Flatten(input_shape=input_shape))\n",
    "            model_cnn.add(Dense(num_classes, activation='softmax'))\n",
    "                                \n",
    "            model_cnn.compile(loss=tensorflow.keras.losses.categorical_crossentropy,\n",
    "                              optimizer=tensorflow.keras.optimizers.Adam(),\n",
    "                              metrics=['accuracy'])\n",
    "            \n",
    "            model_cnn.summary()\n",
    "            \n",
    "            history = model_cnn.fit(x_train, y_train,\n",
    "                                    batch_size=64,\n",
    "                                    epochs=20,\n",
    "                                    verbose=1,\n",
    "                                    validation_data=(x_test, y_test))\n",
    "            \n",
    "            loss=history.history[\"loss\"]\n",
    "            acc=history.history[\"accuracy\"]\n",
    "            val_loss=history.history[\"val_loss\"]\n",
    "            val_acc=history.history[\"val_accuracy\"]\n",
    "            \n",
    "            plt.figure(figsize=(7, 5))\n",
    "            plt.plot(np.arange(1,21), loss, label =\"Training\")\n",
    "            plt.plot(np.arange(1,21), val_loss, label =\"Testing\")\n",
    "            plt.legend(fontsize=14)\n",
    "            plt.title('Loss of softmax regression, batch_size = 32'+ \" et nombre units = 128\" + str(units), fontsize=16)\n",
    "            plt.xlabel('Epoch', fontsize=14)\n",
    "            plt.ylabel('Loss', fontsize=14)\n",
    "            \n",
    "            \n",
    "            plt.figure(figsize=(7, 5))\n",
    "            plt.plot(np.arange(1,21), acc, label =\"Training\")\n",
    "            plt.plot(np.arange(1,21), val_acc, label =\"Testing\")\n",
    "            plt.legend(fontsize=14)\n",
    "            plt.title('Accuracy of softmax regression, batch size = 32' + \" et nombre units = 128\", fontsize=16)\n",
    "            plt.xlabel('Epoch', fontsize=14)\n",
    "            plt.ylabel('Accuracy', fontsize=14)\n"
   ]
  },
  {
   "cell_type": "code",
   "execution_count": null,
   "metadata": {},
   "outputs": [],
   "source": [
    "def cnn_model(kernel_size=(5,5), activation='relu', nb_neuron=1024):\n",
    "    model = Sequential()\n",
    "\n",
    "    model.add(Conv2D(32, kernel_size=kernel_size, activation=activation, input_shape=input_shape))\n",
    "    model.add(MaxPooling2D(pool_size=(2, 2)))\n",
    "    model.add(Conv2D(64, kernel_size=kernel_size, activation=activation))\n",
    "    model.add(MaxPooling2D(pool_size=(2, 2)))\n",
    "    model.add(Flatten())\n",
    "    model.add(Dropout(0.25))\n",
    "    model.add(Dense(nb_neuron, activation='relu'))\n",
    "    model.add(Dropout(0.5))\n",
    "    model.add(Dense(num_classes, activation='softmax'))\n",
    "    \n",
    "    model.compile(\n",
    "        loss=keras.losses.categorical_crossentropy,\n",
    "        optimizer='adam',\n",
    "        metrics=['accuracy']\n",
    "    )\n",
    "    \n",
    "    return model\n",
    "\n",
    "\n",
    "estimator = KerasClassifier(build_fn=cnn_model, batch_size=64, epochs=20)\n",
    "param_grid = {\n",
    "    'kernel_size': [(2,2), (5,5)],\n",
    "    'activation': ['relu', 'sigmoid'],\n",
    "    'nb_neuron': [512, 1024],\n",
    "}\n",
    "\n",
    "clf = GridSearchCV(estimator=estimator, param_grid=param_grid, n_jobs=-1, cv = 5)\n",
    "clf.fit(x_train, one_hot_y_train)"
   ]
  },
  {
   "cell_type": "code",
   "execution_count": null,
   "metadata": {},
   "outputs": [],
   "source": [
    "print(\"The best parametors are the following ones:\")\n",
    "print(clf.best_parameters)"
   ]
  },
  {
   "cell_type": "markdown",
   "metadata": {},
   "source": [
    "### <font color=darkred> Simple Recurrent neural networks</font>"
   ]
  },
  {
   "cell_type": "code",
   "execution_count": null,
   "metadata": {},
   "outputs": [],
   "source": [
    "from keras.layers.recurrent import SimpleRNN\n",
    "from keras.datasets import imdb\n",
    "from keras.layers.embeddings import Embedding\n",
    "from keras.layers import Dense, Dropout, Activation, Flatten\n",
    "from keras.preprocessing import sequence"
   ]
  },
  {
   "cell_type": "markdown",
   "metadata": {},
   "source": [
    "**IMDB sentiment classification task**\n",
    "\n",
    "This is a dataset for binary sentiment classification containing substantially more data than previous benchmark datasets.\n",
    "\n",
    "IMDB provided a set of 25,000 highly popular movie reviews for training, and 25,000 for testing.\n",
    "\n",
    "Dataset of 25,000 movies reviews from IMDB, labeled by sentiment (positive/negative). Reviews have been preprocessed, and each review is encoded as a sequence of word indexes (integers). For convenience, words are indexed by overall frequency in the dataset, so that for instance the integer \"3\" encodes the 3rd most frequent word in the data. This allows for quick filtering operations such as: \"only consider the top 10,000 most common words, but eliminate the top 20 most common words\".\n",
    "\n",
    "See here: https://keras.io/datasets/"
   ]
  },
  {
   "cell_type": "code",
   "execution_count": null,
   "metadata": {},
   "outputs": [],
   "source": [
    "# Top most frequent words to consider, other words are discarded\n",
    "# Number of words considered as different features\n",
    "max_features = 1000\n",
    "\n",
    "# Maximum sequence length. Any longer sequence will be truncated.\n",
    "maxlen = 50 \n",
    "\n",
    "(x_train, y_train), (x_test, y_test) = imdb.load_data(nb_words = max_features)\n",
    "\n",
    "print(x_train.shape[0], 'train samples')\n",
    "print(x_test.shape[0], 'test samples')\n",
    "\n",
    "\n",
    "print('y_train shape:', y_train.shape)\n",
    "print('y_test shape:', y_test.shape)\n",
    "\n",
    "\n",
    "# Build the sequences of maxlen words for each sample\n",
    "x_train = sequence.pad_sequences(x_train, maxlen = maxlen)\n",
    "x_test = sequence.pad_sequences(x_test, maxlen = maxlen)\n",
    "print('X_train shape:', x_train.shape)\n",
    "print('X_test shape:', x_test.shape)\n"
   ]
  },
  {
   "cell_type": "code",
   "execution_count": null,
   "metadata": {},
   "outputs": [],
   "source": [
    "model_rnn = Sequential()\n",
    "\n",
    "# Embedding layer, turns positive integers or indices into dense vectors of fixed size\n",
    "model_rnn.add(Embedding(max_features, 32))\n",
    "model_rnn.add(SimpleRNN(32))  \n",
    "model_rnn.add(Dropout(0.5))\n",
    "model_rnn.add(Dense(1, activation='sigmoid', name='dense_sigmoid'))\n",
    "\n",
    "model_rnn.compile(loss='binary_crossentropy', optimizer='adam')\n",
    "\n",
    "model_rnn.summary()"
   ]
  },
  {
   "cell_type": "code",
   "execution_count": null,
   "metadata": {},
   "outputs": [],
   "source": [
    "batch_size = 32\n",
    "epochs = 5\n",
    "\n",
    "history = model_rnn.fit(x_train, y_train,\n",
    "                        batch_size=batch_size,\n",
    "                        epochs=epochs,\n",
    "                        verbose=1,\n",
    "                        validation_data=(x_test, y_test))"
   ]
  },
  {
   "cell_type": "markdown",
   "metadata": {},
   "source": [
    "**Question**\n",
    "\n",
    "Run a cross-validation to analyze the influence of the size of the RNN layer and of the embedding layer."
   ]
  },
  {
   "cell_type": "code",
   "execution_count": null,
   "metadata": {},
   "outputs": [],
   "source": [
    "def rnn_model(embedding_size=32, rnn_layer_size=32):\n",
    "    model = Sequential()\n",
    "\n",
    "    # Embedding layer, turns positive integers or indices into dense vectors of fixed size\n",
    "    model.add(Embedding(max_features, embedding_size))\n",
    "    model.add(SimpleRNN(rnn_layer_size))  \n",
    "    model.add(Dropout(0.5))\n",
    "    model.add(Dense(1, activation='sigmoid', name='dense_sigmoid'))\n",
    "    \n",
    "    model.compile(loss='binary_crossentropy', optimizer='adam', metrics=['accuracy'])\n",
    "    \n",
    "    return model\n",
    "\n",
    "estimator = KerasClassifier(build_fn=rnn_model, batch_size=32, epochs=5)\n",
    "param_grid = {\n",
    "    'embedding_size': [32, 64, 128],\n",
    "    'rnn_layer_size': [16, 32, 48],\n",
    "}\n",
    "\n",
    "clf = GridSearchCV(estimator=estimator, param_grid=param_grid, n_jobs=-1, cv = 5)\n",
    "clf.fit(x_train, y_train)"
   ]
  },
  {
   "cell_type": "code",
   "execution_count": null,
   "metadata": {},
   "outputs": [],
   "source": [
    "print(\"The best parameters found are the following ones:\")\n",
    "print(clf.best_params_)"
   ]
  },
  {
   "cell_type": "markdown",
   "metadata": {},
   "source": [
    "**Question (bonus)**\n",
    "\n",
    "You may try to implement a first LSTM on this example (see next practical session)."
   ]
  },
  {
   "cell_type": "code",
   "execution_count": null,
   "metadata": {},
   "outputs": [],
   "source": []
  }
 ],
 "metadata": {
  "anaconda-cloud": {},
  "kernelspec": {
   "display_name": "Python 3",
   "language": "python",
   "name": "python3"
  },
  "language_info": {
   "codemirror_mode": {
    "name": "ipython",
    "version": 3
   },
   "file_extension": ".py",
   "mimetype": "text/x-python",
   "name": "python",
   "nbconvert_exporter": "python",
   "pygments_lexer": "ipython3",
   "version": "3.7.4"
  }
 },
 "nbformat": 4,
 "nbformat_minor": 2
}
